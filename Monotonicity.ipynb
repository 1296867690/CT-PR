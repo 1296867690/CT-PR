{
 "cells": [
  {
   "cell_type": "code",
   "execution_count": null,
   "id": "78dfa2fd-78ab-42cb-8c53-a038fef8de34",
   "metadata": {},
   "outputs": [],
   "source": [
    "import pandas as pd\n",
    "\n",
    "def compute_monotonicity(rankings, node_count):\n",
    "    \"\"\"\n",
    "    计算单调性函数 M(R)\n",
    "    \n",
    "    :param rankings: 排名列表的字典，其中键为排名方法名，值为节点排名字典\n",
    "    :param node_count: 网络中节点的总数\n",
    "    :return: 单调性函数的值\n",
    "    \"\"\"\n",
    "    total_sum = 0\n",
    "    \n",
    "    for ranks in rankings.values():\n",
    "        rank_counts = pd.Series(ranks).value_counts()\n",
    "        for count in rank_counts:\n",
    "            total_sum += count * (count - 1)\n",
    "    \n",
    "    norm_factor = node_count * (node_count - 1)\n",
    "    average_sum = total_sum / norm_factor\n",
    "    monotonicity_value = (1 - average_sum) ** 2\n",
    "    \n",
    "    return monotonicity_value\n",
    "\n",
    "# 读取排序结果并计算排名，确保相同的Centrality值有相同的排名\n",
    "def load_and_rank(filename):\n",
    "    df = pd.read_csv(filename)\n",
    "    df['Rank'] = df['Centrality'].rank(ascending=False, method='min')  # 使用 rank 确保相同值有相同排名\n",
    "    rankings = {node: rank for node, rank in zip(df['Node'], df['Rank'])}\n",
    "    return rankings\n",
    "\n",
    "# 文件列表\n",
    "files = {\n",
    "    'Degree': 'degree_sorted.csv',\n",
    "    'Closeness': 'closeness_sorted.csv',\n",
    "    'Betweenness': 'betweenness_sorted.csv',\n",
    "    'Eigenvector': 'eigenvector_sorted.csv',\n",
    "    'CT-PR': 'custom_sorted.csv'\n",
    "\n",
    "}\n",
    "\n",
    "# 计算每种方法的单调性函数\n",
    "node_count = len(pd.read_csv('degree_sorted.csv'))  # 假设所有文件中的节点数量相同\n",
    "\n",
    "monotonicity_results = {}\n",
    "for method, filename in files.items():\n",
    "    rankings = load_and_rank(filename)\n",
    "    monotonicity = compute_monotonicity({method: rankings}, node_count)\n",
    "    monotonicity_results[method] = monotonicity\n",
    "\n",
    "# 打印单调性函数结果\n",
    "for method, value in monotonicity_results.items():\n",
    "    print(f\"Method: {method}\")\n",
    "    print(f\"Monotonicity Value: {value}\\n\")"
   ]
  },
  {
   "cell_type": "code",
   "execution_count": null,
   "id": "37d54c27-300b-45af-81b8-a2c4e9e8bf33",
   "metadata": {},
   "outputs": [],
   "source": []
  }
 ],
 "metadata": {
  "kernelspec": {
   "display_name": "Python 3 (ipykernel)",
   "language": "python",
   "name": "python3"
  },
  "language_info": {
   "codemirror_mode": {
    "name": "ipython",
    "version": 3
   },
   "file_extension": ".py",
   "mimetype": "text/x-python",
   "name": "python",
   "nbconvert_exporter": "python",
   "pygments_lexer": "ipython3",
   "version": "3.7.6"
  }
 },
 "nbformat": 4,
 "nbformat_minor": 5
}
