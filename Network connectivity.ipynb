{
 "cells": [
  {
   "cell_type": "code",
   "execution_count": null,
   "id": "32ade463-3cd1-4c06-991d-0af52091414a",
   "metadata": {
    "tags": []
   },
   "outputs": [],
   "source": [
    "def network_connectivity(G):\n",
    "    # 连通分量数\n",
    "    num_components = nx.number_connected_components(G)\n",
    "    # 最大连通分量的大小\n",
    "    largest_component_size = len(max(nx.connected_components(G), key=len))\n",
    "    return num_components, largest_component_size\n"
   ]
  },
  {
   "cell_type": "code",
   "execution_count": null,
   "id": "6313bcbe-8ad9-4967-9946-137008e93ecf",
   "metadata": {
    "tags": []
   },
   "outputs": [],
   "source": [
    "# 模拟删除前 n 名节点的攻击\n",
    "def simulate_attack_top_n(G, sorted_nodes, max_n=100):\n",
    "    results = []\n",
    "    for n in range(1, max_n + 1):\n",
    "        # 每次删除前 n 个节点\n",
    "        top_n_nodes = sorted_nodes['Node'][:n]\n",
    "        G_copy = G.copy()\n",
    "        G_copy.remove_nodes_from(top_n_nodes)\n",
    "        \n",
    "        # 计算删除后的网络连通性\n",
    "        num_components, largest_component_size = network_connectivity(G_copy)\n",
    "        results.append({'TopN': n, \n",
    "                        'NumComponents': num_components, \n",
    "                        'LargestComponentSize': largest_component_size})\n",
    "    return pd.DataFrame(results)"
   ]
  },
  {
   "cell_type": "code",
   "execution_count": null,
   "id": "ed616ed0-8092-4cdc-bc4d-3171ff9af192",
   "metadata": {
    "tags": []
   },
   "outputs": [],
   "source": [
    "# 针对度中心性、介数中心性、特征向量中心性分别进行仿真攻击\n",
    "degree_attack_results = simulate_attack_top_n(G, degree_sorted)\n",
    "betweenness_attack_results = simulate_attack_top_n(G, betweenness_sorted)\n",
    "eigenvector_attack_results = simulate_attack_top_n(G, eigenvector_sorted)\n",
    "closeness_attack_results = simulate_attack_top_n(G, closeness_sorted)\n",
    "custom_attack_results = simulate_attack_top_n(G, custom_sorted)\n",
    "pagerank_attack_results = simulate_attack_top_n(G, pagerank_sorted)"
   ]
  },
  {
   "cell_type": "code",
   "execution_count": null,
   "id": "cdfc9121-2052-4db5-b117-665f28d270bb",
   "metadata": {
    "tags": []
   },
   "outputs": [],
   "source": [
    "import matplotlib.pyplot as plt\n",
    "def plot_combined_attack_results(degree_df, betweenness_df, eigenvector_df, closeness_df, custom_df,pagerank_df):\n",
    "    plt.figure(figsize=(14, 6))\n",
    "    \n",
    "    # 子图1：网络的连通分量数变化\n",
    "    plt.subplot(1, 2, 1)\n",
    "    plt.plot(degree_df['TopN'], degree_df['NumComponents'], label='DC', color='blue', linestyle='-')\n",
    "    plt.plot(betweenness_df['TopN'], betweenness_df['NumComponents'], label='BC', color='green', linestyle='--')\n",
    "    plt.plot(eigenvector_df['TopN'], eigenvector_df['NumComponents'], label='EC', color='red', linestyle='-.')\n",
    "    plt.plot(closeness_df['TopN'], closeness_df['NumComponents'], label='CC', color='purple', linestyle=':')\n",
    "    plt.plot(custom_df['TopN'], custom_df['NumComponents'], label='CT-PR', color='orange', linestyle='-.')\n",
    "    \n",
    "    plt.title('Number of Components after Node Removal')\n",
    "    plt.xlabel('Number of Removed Nodes (Top N)')\n",
    "    plt.ylabel('Number of Components')\n",
    "    plt.legend()\n",
    "    plt.grid(True)\n",
    "    \n",
    "    # 子图2：网络的最大连通分量大小变化\n",
    "    plt.subplot(1, 2, 2)\n",
    "    plt.plot(degree_df['TopN'], degree_df['LargestComponentSize'], label='DC', color='blue', linestyle='-')\n",
    "    plt.plot(betweenness_df['TopN'], betweenness_df['LargestComponentSize'], label='BC', color='green', linestyle='--')\n",
    "    plt.plot(eigenvector_df['TopN'], eigenvector_df['LargestComponentSize'], label='EC', color='red', linestyle='-.')\n",
    "    plt.plot(closeness_df['TopN'], closeness_df['LargestComponentSize'], label='CC', color='purple', linestyle=':')\n",
    "    plt.plot(custom_df['TopN'], custom_df['LargestComponentSize'], label='CT-PR', color='orange', linestyle='-.')\n",
    "    \n",
    "    plt.title('Largest Component Size after Node Removal')\n",
    "    plt.xlabel('Number of Removed Nodes (Top N)')\n",
    "    plt.ylabel('Size of Largest Component')\n",
    "    plt.legend()\n",
    "    plt.grid(True)\n",
    "    \n",
    "    # 调整布局\n",
    "    plt.tight_layout()\n",
    "    plt.show()\n",
    "\n",
    "# 调用可视化函数，绘制所有中心性攻击的结果\n",
    "plot_combined_attack_results(degree_attack_results, betweenness_attack_results, eigenvector_attack_results, closeness_attack_results, custom_attack_results, pagerank_attack_results)\n"
   ]
  },
  {
   "cell_type": "code",
   "execution_count": null,
   "id": "5a245615-4d3c-4aad-aa37-50f7cc6a4b06",
   "metadata": {
    "tags": []
   },
   "outputs": [],
   "source": [
    "import matplotlib.pyplot as plt\n",
    "\n",
    "def plot_combined_attack_results(degree_df, betweenness_df, eigenvector_df, closeness_df, custom_df, pagerank_df):\n",
    "    plt.figure(figsize=(7, 12))  # 修改了figsize参数，使得图形更适合上下布局\n",
    "    \n",
    "    # 子图1：网络的连通分量数变化\n",
    "    plt.subplot(2, 1, 1)  # 修改了subplot参数，将子图放置在上方\n",
    "    plt.plot(degree_df['TopN'], degree_df['NumComponents'], label='DC', color='blue', linestyle='-')\n",
    "    plt.plot(betweenness_df['TopN'], betweenness_df['NumComponents'], label='BC', color='green', linestyle='--')\n",
    "    plt.plot(eigenvector_df['TopN'], eigenvector_df['NumComponents'], label='EC', color='red', linestyle='-.')\n",
    "    plt.plot(closeness_df['TopN'], closeness_df['NumComponents'], label='CC', color='purple', linestyle=':')\n",
    "    plt.plot(custom_df['TopN'], custom_df['NumComponents'], label='CT-PR', color='orange', linestyle='-.')\n",
    "    \n",
    "    plt.title('Number of Components after Node Removal')\n",
    "    plt.xlabel('Number of Removed Nodes (Top N)')\n",
    "    plt.ylabel('Number of Components')\n",
    "    plt.legend()\n",
    "    plt.grid(True)\n",
    "    \n",
    "    # 子图2：网络的最大连通分量大小变化\n",
    "    plt.subplot(2, 1, 2)  # 修改了subplot参数，将子图放置在下方\n",
    "    plt.plot(degree_df['TopN'], degree_df['LargestComponentSize'], label='DC', color='blue', linestyle='-')\n",
    "    plt.plot(betweenness_df['TopN'], betweenness_df['LargestComponentSize'], label='BC', color='green', linestyle='--')\n",
    "    plt.plot(eigenvector_df['TopN'], eigenvector_df['LargestComponentSize'], label='EC', color='red', linestyle='-.')\n",
    "    plt.plot(closeness_df['TopN'], closeness_df['LargestComponentSize'], label='CC', color='purple', linestyle=':')\n",
    "    plt.plot(custom_df['TopN'], custom_df['LargestComponentSize'], label='CT-PR', color='orange', linestyle='-.')\n",
    "    \n",
    "    plt.title('Largest Component Size after Node Removal')\n",
    "    plt.xlabel('Number of Removed Nodes (Top N)')\n",
    "    plt.ylabel('Size of Largest Component')\n",
    "    plt.legend()\n",
    "    plt.grid(True)\n",
    "    \n",
    "    # 调整布局\n",
    "    plt.tight_layout()\n",
    "    plt.show()\n",
    "\n",
    "# 假设你已经有了所需的数据框（DataFrame），请确保它们包含正确的列\n",
    "# 调用可视化函数，绘制所有中心性攻击的结果\n",
    "plot_combined_attack_results(degree_attack_results, betweenness_attack_results, eigenvector_attack_results, closeness_attack_results, custom_attack_results, pagerank_attack_results)"
   ]
  },
  {
   "cell_type": "markdown",
   "id": "c7eb9daf-5559-41a2-be1a-c5c60fbffb3f",
   "metadata": {},
   "source": [
    "##### 左图显示的是网络分解的速度（曲线越陡越好）\n",
    "##### 右图显示的是网络核心连通性的损失情况（曲线下降越快越好）。"
   ]
  },
  {
   "cell_type": "code",
   "execution_count": null,
   "id": "d0536535-db81-4275-8bf3-70e8095f4c37",
   "metadata": {},
   "outputs": [],
   "source": []
  }
 ],
 "metadata": {
  "kernelspec": {
   "display_name": "Python 3 (ipykernel)",
   "language": "python",
   "name": "python3"
  },
  "language_info": {
   "codemirror_mode": {
    "name": "ipython",
    "version": 3
   },
   "file_extension": ".py",
   "mimetype": "text/x-python",
   "name": "python",
   "nbconvert_exporter": "python",
   "pygments_lexer": "ipython3",
   "version": "3.7.6"
  }
 },
 "nbformat": 4,
 "nbformat_minor": 5
}
